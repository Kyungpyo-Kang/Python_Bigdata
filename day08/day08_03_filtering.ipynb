{
 "cells": [
  {
   "cell_type": "markdown",
   "metadata": {},
   "source": [
    "### 협업필터링(Collaborative filtering)\n",
    "- 사용자들의 데이터를 기반으로 대상(target)과 유사한(높은 유사도를 갖는) 사용자들의 데이터를 분석하여 추천함\n",
    "- 추천을 하는 데이터는 회사 내부에 모아져있는 상태여야 시작이 가능함(cold start가 불가능)\n",
    "- 나와 비슷한 사람으로부터 추천을 받는 것이 더 좋다는 원리\n",
    "- 개인에게 개인화된 추천이 가능함"
   ]
  },
  {
   "cell_type": "code",
   "execution_count": 67,
   "metadata": {},
   "outputs": [],
   "source": [
    "import pandas as pd\n",
    "import numpy as np"
   ]
  },
  {
   "cell_type": "code",
   "execution_count": 115,
   "metadata": {},
   "outputs": [],
   "source": [
    "url = 'https://raw.githubusercontent.com/luxdolorosa/data_set/master/movie/ratings_UTF8.csv'\n",
    "ratings = pd.read_csv(url, encoding='utf-8', sep='\\t', index_col=0)"
   ]
  },
  {
   "cell_type": "code",
   "execution_count": 69,
   "metadata": {},
   "outputs": [
    {
     "data": {
      "text/html": [
       "<div>\n",
       "<style scoped>\n",
       "    .dataframe tbody tr th:only-of-type {\n",
       "        vertical-align: middle;\n",
       "    }\n",
       "\n",
       "    .dataframe tbody tr th {\n",
       "        vertical-align: top;\n",
       "    }\n",
       "\n",
       "    .dataframe thead th {\n",
       "        text-align: right;\n",
       "    }\n",
       "</style>\n",
       "<table border=\"1\" class=\"dataframe\">\n",
       "  <thead>\n",
       "    <tr style=\"text-align: right;\">\n",
       "      <th></th>\n",
       "      <th>name</th>\n",
       "      <th>title</th>\n",
       "      <th>rating</th>\n",
       "    </tr>\n",
       "    <tr>\n",
       "      <th>no</th>\n",
       "      <th></th>\n",
       "      <th></th>\n",
       "      <th></th>\n",
       "    </tr>\n",
       "  </thead>\n",
       "  <tbody>\n",
       "    <tr>\n",
       "      <td>1</td>\n",
       "      <td>최트루</td>\n",
       "      <td>택시운전사</td>\n",
       "      <td>3.0</td>\n",
       "    </tr>\n",
       "    <tr>\n",
       "      <td>2</td>\n",
       "      <td>최트루</td>\n",
       "      <td>신과함께</td>\n",
       "      <td>4.0</td>\n",
       "    </tr>\n",
       "    <tr>\n",
       "      <td>3</td>\n",
       "      <td>최트루</td>\n",
       "      <td>공조</td>\n",
       "      <td>3.5</td>\n",
       "    </tr>\n",
       "    <tr>\n",
       "      <td>4</td>\n",
       "      <td>최트루</td>\n",
       "      <td>스파이더맨</td>\n",
       "      <td>5.0</td>\n",
       "    </tr>\n",
       "    <tr>\n",
       "      <td>5</td>\n",
       "      <td>최트루</td>\n",
       "      <td>범죄도시</td>\n",
       "      <td>2.0</td>\n",
       "    </tr>\n",
       "  </tbody>\n",
       "</table>\n",
       "</div>"
      ],
      "text/plain": [
       "   name  title  rating\n",
       "no                    \n",
       "1   최트루  택시운전사     3.0\n",
       "2   최트루   신과함께     4.0\n",
       "3   최트루     공조     3.5\n",
       "4   최트루  스파이더맨     5.0\n",
       "5   최트루   범죄도시     2.0"
      ]
     },
     "execution_count": 69,
     "metadata": {},
     "output_type": "execute_result"
    }
   ],
   "source": [
    "ratings.head()"
   ]
  },
  {
   "cell_type": "markdown",
   "metadata": {},
   "source": [
    "# 유사도 구하기\n",
    "- 1. 리뷰어 별로 각 영화에 몇 점을 주었는가?"
   ]
  },
  {
   "cell_type": "code",
   "execution_count": 91,
   "metadata": {},
   "outputs": [],
   "source": [
    "movie_ratings = pd.pivot(ratings, index='title', columns='name', values='rating')"
   ]
  },
  {
   "cell_type": "markdown",
   "metadata": {},
   "source": [
    "- 2. 사용자 사이의 유사도 계산"
   ]
  },
  {
   "cell_type": "code",
   "execution_count": 93,
   "metadata": {},
   "outputs": [
    {
     "data": {
      "text/html": [
       "<div>\n",
       "<style scoped>\n",
       "    .dataframe tbody tr th:only-of-type {\n",
       "        vertical-align: middle;\n",
       "    }\n",
       "\n",
       "    .dataframe tbody tr th {\n",
       "        vertical-align: top;\n",
       "    }\n",
       "\n",
       "    .dataframe thead th {\n",
       "        text-align: right;\n",
       "    }\n",
       "</style>\n",
       "<table border=\"1\" class=\"dataframe\">\n",
       "  <thead>\n",
       "    <tr style=\"text-align: right;\">\n",
       "      <th>name</th>\n",
       "      <th>name</th>\n",
       "      <th>조쌤</th>\n",
       "      <th>지리산</th>\n",
       "      <th>최트루</th>\n",
       "      <th>코리아</th>\n",
       "      <th>포세이돈</th>\n",
       "      <th>헤르메스</th>\n",
       "    </tr>\n",
       "  </thead>\n",
       "  <tbody>\n",
       "    <tr>\n",
       "      <td>0</td>\n",
       "      <td>조쌤</td>\n",
       "      <td>1.000000</td>\n",
       "      <td>0.151247</td>\n",
       "      <td>0.440589</td>\n",
       "      <td>0.600081</td>\n",
       "      <td>0.367410</td>\n",
       "      <td>-0.563602</td>\n",
       "    </tr>\n",
       "    <tr>\n",
       "      <td>1</td>\n",
       "      <td>지리산</td>\n",
       "      <td>0.151247</td>\n",
       "      <td>1.000000</td>\n",
       "      <td>-0.184000</td>\n",
       "      <td>0.616259</td>\n",
       "      <td>0.754726</td>\n",
       "      <td>0.316228</td>\n",
       "    </tr>\n",
       "    <tr>\n",
       "      <td>2</td>\n",
       "      <td>최트루</td>\n",
       "      <td>0.440589</td>\n",
       "      <td>-0.184000</td>\n",
       "      <td>1.000000</td>\n",
       "      <td>0.464565</td>\n",
       "      <td>0.388354</td>\n",
       "      <td>0.154919</td>\n",
       "    </tr>\n",
       "    <tr>\n",
       "      <td>3</td>\n",
       "      <td>코리아</td>\n",
       "      <td>0.600081</td>\n",
       "      <td>0.616259</td>\n",
       "      <td>0.464565</td>\n",
       "      <td>1.000000</td>\n",
       "      <td>0.633920</td>\n",
       "      <td>-0.075593</td>\n",
       "    </tr>\n",
       "    <tr>\n",
       "      <td>4</td>\n",
       "      <td>포세이돈</td>\n",
       "      <td>0.367410</td>\n",
       "      <td>0.754726</td>\n",
       "      <td>0.388354</td>\n",
       "      <td>0.633920</td>\n",
       "      <td>1.000000</td>\n",
       "      <td>0.946729</td>\n",
       "    </tr>\n",
       "    <tr>\n",
       "      <td>5</td>\n",
       "      <td>헤르메스</td>\n",
       "      <td>-0.563602</td>\n",
       "      <td>0.316228</td>\n",
       "      <td>0.154919</td>\n",
       "      <td>-0.075593</td>\n",
       "      <td>0.946729</td>\n",
       "      <td>1.000000</td>\n",
       "    </tr>\n",
       "  </tbody>\n",
       "</table>\n",
       "</div>"
      ],
      "text/plain": [
       "name  name        조쌤       지리산       최트루       코리아      포세이돈      헤르메스\n",
       "0       조쌤  1.000000  0.151247  0.440589  0.600081  0.367410 -0.563602\n",
       "1      지리산  0.151247  1.000000 -0.184000  0.616259  0.754726  0.316228\n",
       "2      최트루  0.440589 -0.184000  1.000000  0.464565  0.388354  0.154919\n",
       "3      코리아  0.600081  0.616259  0.464565  1.000000  0.633920 -0.075593\n",
       "4     포세이돈  0.367410  0.754726  0.388354  0.633920  1.000000  0.946729\n",
       "5     헤르메스 -0.563602  0.316228  0.154919 -0.075593  0.946729  1.000000"
      ]
     },
     "execution_count": 93,
     "metadata": {},
     "output_type": "execute_result"
    }
   ],
   "source": [
    "sim_user = movie_ratings.corr().reset_index()\n",
    "sim_user"
   ]
  },
  {
   "cell_type": "markdown",
   "metadata": {},
   "source": [
    "# 헤르메스한테 추천할 영화 정보를 구하기\n",
    "- 헤르메스가 평가하지 않은 영화를 골라내기"
   ]
  },
  {
   "cell_type": "code",
   "execution_count": 73,
   "metadata": {},
   "outputs": [],
   "source": [
    "tmp_title = movie_ratings['헤르메스']\n",
    "tmp_title.isnull()\n",
    "na_title = tmp_title[tmp_title.isnull()].reset_index()"
   ]
  },
  {
   "cell_type": "code",
   "execution_count": 74,
   "metadata": {},
   "outputs": [
    {
     "data": {
      "text/plain": [
       "['군함도', '신과함께']"
      ]
     },
     "execution_count": 74,
     "metadata": {},
     "output_type": "execute_result"
    }
   ],
   "source": [
    "na_list = list(na_title['title'])\n",
    "na_list"
   ]
  },
  {
   "cell_type": "code",
   "execution_count": 75,
   "metadata": {},
   "outputs": [],
   "source": [
    "# 원본데이터에서 헤르메스가 평가하지 않은 영화들(군함도, 신과함께)의 다른 평점을 조회\n",
    "rating_t = ratings[ratings.apply(lambda x: x.title in na_list, axis=1)]"
   ]
  },
  {
   "cell_type": "code",
   "execution_count": 76,
   "metadata": {},
   "outputs": [],
   "source": [
    "sim_user.loc[:, ['name','헤르메스']]\n",
    "temp_ratings = pd.merge(rating_t, sim_user.loc[:, ['name','헤르메스']], on='name')"
   ]
  },
  {
   "cell_type": "code",
   "execution_count": 77,
   "metadata": {},
   "outputs": [
    {
     "data": {
      "text/html": [
       "<div>\n",
       "<style scoped>\n",
       "    .dataframe tbody tr th:only-of-type {\n",
       "        vertical-align: middle;\n",
       "    }\n",
       "\n",
       "    .dataframe tbody tr th {\n",
       "        vertical-align: top;\n",
       "    }\n",
       "\n",
       "    .dataframe thead th {\n",
       "        text-align: right;\n",
       "    }\n",
       "</style>\n",
       "<table border=\"1\" class=\"dataframe\">\n",
       "  <thead>\n",
       "    <tr style=\"text-align: right;\">\n",
       "      <th></th>\n",
       "      <th>name</th>\n",
       "      <th>title</th>\n",
       "      <th>rating</th>\n",
       "      <th>헤르메스</th>\n",
       "    </tr>\n",
       "  </thead>\n",
       "  <tbody>\n",
       "    <tr>\n",
       "      <td>8</td>\n",
       "      <td>포세이돈</td>\n",
       "      <td>신과함께</td>\n",
       "      <td>5.0</td>\n",
       "      <td>0.946729</td>\n",
       "    </tr>\n",
       "    <tr>\n",
       "      <td>9</td>\n",
       "      <td>포세이돈</td>\n",
       "      <td>군함도</td>\n",
       "      <td>3.0</td>\n",
       "      <td>0.946729</td>\n",
       "    </tr>\n",
       "    <tr>\n",
       "      <td>2</td>\n",
       "      <td>지리산</td>\n",
       "      <td>신과함께</td>\n",
       "      <td>5.0</td>\n",
       "      <td>0.316228</td>\n",
       "    </tr>\n",
       "    <tr>\n",
       "      <td>3</td>\n",
       "      <td>지리산</td>\n",
       "      <td>군함도</td>\n",
       "      <td>3.5</td>\n",
       "      <td>0.316228</td>\n",
       "    </tr>\n",
       "    <tr>\n",
       "      <td>0</td>\n",
       "      <td>최트루</td>\n",
       "      <td>신과함께</td>\n",
       "      <td>4.0</td>\n",
       "      <td>0.154919</td>\n",
       "    </tr>\n",
       "    <tr>\n",
       "      <td>1</td>\n",
       "      <td>최트루</td>\n",
       "      <td>군함도</td>\n",
       "      <td>4.0</td>\n",
       "      <td>0.154919</td>\n",
       "    </tr>\n",
       "    <tr>\n",
       "      <td>6</td>\n",
       "      <td>코리아</td>\n",
       "      <td>신과함께</td>\n",
       "      <td>5.0</td>\n",
       "      <td>-0.075593</td>\n",
       "    </tr>\n",
       "    <tr>\n",
       "      <td>7</td>\n",
       "      <td>코리아</td>\n",
       "      <td>군함도</td>\n",
       "      <td>4.0</td>\n",
       "      <td>-0.075593</td>\n",
       "    </tr>\n",
       "    <tr>\n",
       "      <td>4</td>\n",
       "      <td>조쌤</td>\n",
       "      <td>신과함께</td>\n",
       "      <td>5.0</td>\n",
       "      <td>-0.563602</td>\n",
       "    </tr>\n",
       "    <tr>\n",
       "      <td>5</td>\n",
       "      <td>조쌤</td>\n",
       "      <td>군함도</td>\n",
       "      <td>2.0</td>\n",
       "      <td>-0.563602</td>\n",
       "    </tr>\n",
       "  </tbody>\n",
       "</table>\n",
       "</div>"
      ],
      "text/plain": [
       "   name title  rating      헤르메스\n",
       "8  포세이돈  신과함께     5.0  0.946729\n",
       "9  포세이돈   군함도     3.0  0.946729\n",
       "2   지리산  신과함께     5.0  0.316228\n",
       "3   지리산   군함도     3.5  0.316228\n",
       "0   최트루  신과함께     4.0  0.154919\n",
       "1   최트루   군함도     4.0  0.154919\n",
       "6   코리아  신과함께     5.0 -0.075593\n",
       "7   코리아   군함도     4.0 -0.075593\n",
       "4    조쌤  신과함께     5.0 -0.563602\n",
       "5    조쌤   군함도     2.0 -0.563602"
      ]
     },
     "execution_count": 77,
     "metadata": {},
     "output_type": "execute_result"
    }
   ],
   "source": [
    "temp_ratings.sort_values(['헤르메스', 'rating'], ascending=False)\n",
    "#  .iloc[0,1]\n",
    "# 헤르메스에게는 유사도가 높은 포세이돈이 추천하는 신과함께가 가장 재미있을 영화이다."
   ]
  },
  {
   "cell_type": "markdown",
   "metadata": {},
   "source": [
    "# 검증 및 데이터를 변경\n",
    "- 헤르메스가 안 본 영화 중 신과함께를 공조로 변경\n",
    "- 변경된 신과함께 평점을 5점으로 변경"
   ]
  },
  {
   "cell_type": "code",
   "execution_count": 116,
   "metadata": {},
   "outputs": [],
   "source": [
    "ratings.loc[(ratings.title == '공조') & (ratings.name == '헤르메스'), :] = ['헤르메스','신과함께',5.0]"
   ]
  },
  {
   "cell_type": "code",
   "execution_count": 117,
   "metadata": {},
   "outputs": [],
   "source": [
    "movie_ratings = pd.pivot(ratings, index='title', columns='name', values='rating')"
   ]
  },
  {
   "cell_type": "code",
   "execution_count": 118,
   "metadata": {},
   "outputs": [],
   "source": [
    "sim_user = movie_ratings.corr().reset_index()\n",
    "tmp_title = movie_ratings['헤르메스']\n",
    "na_title = tmp_title[tmp_title.isnull()].reset_index()\n",
    "na_list = list(na_title['title'])\n",
    "rating_t = ratings[ratings.apply(lambda x: x.title in na_list, axis=1)]\n",
    "tmp_ratings = pd.merge(rating_t, sim_user.loc[:, ['name','헤르메스']], on='name')"
   ]
  },
  {
   "cell_type": "code",
   "execution_count": 99,
   "metadata": {},
   "outputs": [],
   "source": [
    "# 유사도가 가장 높은 1인으로 할 경우에는 포세이돈이 가장 높게 평가한 군함도를 추천하면 되지만\n",
    "# 다른 유사도가 높은 유저가 많은 경우에는 1인에게 받는 것보다는\n",
    "# 다른 유저들의 데이터도 같이 반영되는게 일반적으로 더 좋은 성능을 보인다."
   ]
  },
  {
   "cell_type": "code",
   "execution_count": 119,
   "metadata": {},
   "outputs": [],
   "source": [
    "# 헤르메스라는 컬럼은 헤르메스와 다른 유저와의 유사도이므로 컬럼명을 similarity로 변경하기\n",
    "tmp_ratings.rename(columns={'헤르메스':'similarity'}, inplace=True)"
   ]
  },
  {
   "cell_type": "code",
   "execution_count": 120,
   "metadata": {},
   "outputs": [
    {
     "data": {
      "text/plain": [
       "'공조'"
      ]
     },
     "execution_count": 120,
     "metadata": {},
     "output_type": "execute_result"
    }
   ],
   "source": [
    "tmp_ratings['sim_rating'] = tmp_ratings.rating * tmp_ratings.similarity\n",
    "tmp_ratings.sort_values('sim_rating', ascending=False).iloc[0,1]\n",
    "# .iloc[0,1]"
   ]
  },
  {
   "cell_type": "code",
   "execution_count": 122,
   "metadata": {},
   "outputs": [
    {
     "data": {
      "text/plain": [
       "title\n",
       "공조     3.453851\n",
       "군함도    3.252310\n",
       "dtype: float64"
      ]
     },
     "execution_count": 122,
     "metadata": {},
     "output_type": "execute_result"
    }
   ],
   "source": [
    "# 헤르메스의 예상 점수를 구할 수도 있음\n",
    "rate_temp = tmp_ratings.groupby('title').sum()\n",
    "rate_temp.sim_rating / rate_temp.similarity"
   ]
  },
  {
   "cell_type": "code",
   "execution_count": null,
   "metadata": {},
   "outputs": [],
   "source": []
  },
  {
   "cell_type": "code",
   "execution_count": null,
   "metadata": {},
   "outputs": [],
   "source": []
  }
 ],
 "metadata": {
  "kernelspec": {
   "display_name": "Python 3",
   "language": "python",
   "name": "python3"
  },
  "language_info": {
   "codemirror_mode": {
    "name": "ipython",
    "version": 3
   },
   "file_extension": ".py",
   "mimetype": "text/x-python",
   "name": "python",
   "nbconvert_exporter": "python",
   "pygments_lexer": "ipython3",
   "version": "3.7.7"
  }
 },
 "nbformat": 4,
 "nbformat_minor": 2
}
