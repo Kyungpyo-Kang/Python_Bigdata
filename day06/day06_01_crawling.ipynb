{
 "cells": [
  {
   "cell_type": "markdown",
   "metadata": {},
   "source": [
    "# day06_01_crawling"
   ]
  },
  {
   "cell_type": "markdown",
   "metadata": {},
   "source": [
    "### 크롤링 예제\n",
    "+ jtbc 뉴스검색 사이트에서 검색어에 따른 기사 갯수 구하기"
   ]
  },
  {
   "cell_type": "code",
   "execution_count": 5,
   "metadata": {},
   "outputs": [],
   "source": [
    "import requests as req\n",
    "from bs4 import BeautifulSoup"
   ]
  },
  {
   "cell_type": "code",
   "execution_count": 26,
   "metadata": {},
   "outputs": [],
   "source": [
    "# 키워드\n",
    "my_keyword = '코로나'"
   ]
  },
  {
   "cell_type": "code",
   "execution_count": 27,
   "metadata": {},
   "outputs": [
    {
     "data": {
      "text/plain": [
       "'http://jtbc.joins.com/search/news?term=코로나'"
      ]
     },
     "execution_count": 27,
     "metadata": {},
     "output_type": "execute_result"
    }
   ],
   "source": [
    "# url은 크롤링할 대상의 주소\n",
    "url = \"http://jtbc.joins.com/search/news?term=\"+my_keyword\n",
    "url"
   ]
  },
  {
   "cell_type": "code",
   "execution_count": 28,
   "metadata": {},
   "outputs": [],
   "source": [
    "# url 주소에 요청(request)\n",
    "response = req.get(url)"
   ]
  },
  {
   "cell_type": "code",
   "execution_count": 29,
   "metadata": {},
   "outputs": [],
   "source": [
    "# 응답받은 response 객체의 text를 html스럽게 변환\n",
    "soup = BeautifulSoup(response.text, 'html.parser')"
   ]
  },
  {
   "cell_type": "code",
   "execution_count": 30,
   "metadata": {},
   "outputs": [],
   "source": [
    "# id는        #\n",
    "# class는     .\n",
    "cnt = soup.select('.txt_result')[0]"
   ]
  },
  {
   "cell_type": "code",
   "execution_count": 31,
   "metadata": {},
   "outputs": [
    {
     "data": {
      "text/plain": [
       "'코로나::::5,592건'"
      ]
     },
     "execution_count": 31,
     "metadata": {},
     "output_type": "execute_result"
    }
   ],
   "source": [
    "# cnt변수에 저장된 html에서 strong 태그의 값을 가져오기\n",
    "my_keyword+\"::::\"+cnt.select('strong')[0].text + '건'"
   ]
  },
  {
   "cell_type": "code",
   "execution_count": 32,
   "metadata": {},
   "outputs": [
    {
     "name": "stdout",
     "output_type": "stream",
     "text": [
      "마스크\n"
     ]
    },
    {
     "data": {
      "text/plain": [
       "'마스크::::9,447건'"
      ]
     },
     "execution_count": 32,
     "metadata": {},
     "output_type": "execute_result"
    }
   ],
   "source": [
    "# 키워드\n",
    "my_keyword = input()\n",
    "\n",
    "# url은 크롤링할 대상의 주소\n",
    "url = \"http://jtbc.joins.com/search/news?term=\"+my_keyword\n",
    "# url 주소에 요청(request)\n",
    "response = req.get(url)\n",
    "# 응답받은 response 객체의 text를 html스럽게 변환\n",
    "soup = BeautifulSoup(response.text, 'html.parser')\n",
    "cnt = soup.select('.txt_result')[0]\n",
    "my_keyword+\"::::\"+cnt.select('strong')[0].text + '건'"
   ]
  }
 ],
 "metadata": {
  "kernelspec": {
   "display_name": "Python 3",
   "language": "python",
   "name": "python3"
  },
  "language_info": {
   "codemirror_mode": {
    "name": "ipython",
    "version": 3
   },
   "file_extension": ".py",
   "mimetype": "text/x-python",
   "name": "python",
   "nbconvert_exporter": "python",
   "pygments_lexer": "ipython3",
   "version": "3.7.4"
  }
 },
 "nbformat": 4,
 "nbformat_minor": 2
}
