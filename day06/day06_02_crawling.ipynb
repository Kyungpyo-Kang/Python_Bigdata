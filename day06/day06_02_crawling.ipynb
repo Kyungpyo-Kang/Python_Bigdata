{
 "cells": [
  {
   "cell_type": "markdown",
   "metadata": {},
   "source": [
    "# day06_02_crawling"
   ]
  },
  {
   "cell_type": "markdown",
   "metadata": {},
   "source": [
    "### 크롤링 예제\n",
    "+ jtbc 뉴스검색 사이트에서 검색어에 따른 기사 갯수 구하기"
   ]
  },
  {
   "cell_type": "code",
   "execution_count": 2,
   "metadata": {},
   "outputs": [],
   "source": [
    "import requests as req\n",
    "from bs4 import BeautifulSoup"
   ]
  },
  {
   "cell_type": "code",
   "execution_count": 5,
   "metadata": {},
   "outputs": [
    {
     "name": "stdout",
     "output_type": "stream",
     "text": [
      "빅데이터::::2,807건\n",
      "코로나::::5,592건\n",
      "마스크::::9,447건\n"
     ]
    }
   ],
   "source": [
    "my_keywords = ['빅데이터', '코로나', '마스크']\n",
    "for my_keyword in my_keywords:\n",
    "    url = \"http://jtbc.joins.com/search/news?term=\"+my_keyword\n",
    "    response = req.get(url)\n",
    "    soup = BeautifulSoup(response.text, 'html.parser')\n",
    "    cnt = soup.select('.txt_result')[0]\n",
    "    print(my_keyword+\"::::\"+cnt.select('strong')[0].text + '건')"
   ]
  }
 ],
 "metadata": {
  "kernelspec": {
   "display_name": "Python 3",
   "language": "python",
   "name": "python3"
  },
  "language_info": {
   "codemirror_mode": {
    "name": "ipython",
    "version": 3
   },
   "file_extension": ".py",
   "mimetype": "text/x-python",
   "name": "python",
   "nbconvert_exporter": "python",
   "pygments_lexer": "ipython3",
   "version": "3.7.4"
  }
 },
 "nbformat": 4,
 "nbformat_minor": 2
}
