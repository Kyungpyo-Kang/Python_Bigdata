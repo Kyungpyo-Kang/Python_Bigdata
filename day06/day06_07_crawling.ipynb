{
 "cells": [
  {
   "cell_type": "markdown",
   "metadata": {},
   "source": [
    "# day06_07_crawling"
   ]
  },
  {
   "cell_type": "code",
   "execution_count": 8,
   "metadata": {},
   "outputs": [],
   "source": [
    "# 쿠팡사이트의 하나의 품목에 대한 크롤링 진행하기"
   ]
  },
  {
   "cell_type": "code",
   "execution_count": 9,
   "metadata": {},
   "outputs": [],
   "source": [
    "import requests as req\n",
    "from bs4 import BeautifulSoup"
   ]
  },
  {
   "cell_type": "code",
   "execution_count": 10,
   "metadata": {},
   "outputs": [],
   "source": [
    "useragent = 'Mozilla/5.0 (Windows NT 6.1; Win64; x64) AppleWebKit/537.36 (KHTML, like Gecko) Chrome/81.0.4044.138 Safari/537.36'"
   ]
  },
  {
   "cell_type": "code",
   "execution_count": 11,
   "metadata": {},
   "outputs": [],
   "source": [
    "# 요청하는 사이트에 크롤링이 아닌 사람의 요청이라고 속이기\n",
    "header = {'User-Agent':useragent}"
   ]
  },
  {
   "cell_type": "code",
   "execution_count": 13,
   "metadata": {},
   "outputs": [],
   "source": [
    "url = 'http://www.coupang.com/np/search?component=&q=%EB%A7%88%EC%8A%A4%ED%81%AC&channel=user'\n",
    "response = req.get(url, headers=header)"
   ]
  },
  {
   "cell_type": "code",
   "execution_count": 17,
   "metadata": {},
   "outputs": [],
   "source": [
    "soup = BeautifulSoup(response.text, 'html.parser')"
   ]
  },
  {
   "cell_type": "code",
   "execution_count": 20,
   "metadata": {},
   "outputs": [],
   "source": [
    "product_list = soup.select('#productList')[0]"
   ]
  },
  {
   "cell_type": "code",
   "execution_count": 22,
   "metadata": {},
   "outputs": [],
   "source": [
    "item_list = product_list.find_all('li')"
   ]
  },
  {
   "cell_type": "code",
   "execution_count": 29,
   "metadata": {},
   "outputs": [
    {
     "name": "stdout",
     "output_type": "stream",
     "text": [
      "프레티 에브리데이 퀵 마스크팩, 24개입, 2개 / 가격: 8,520원\n",
      "일회용 3중 부직포 마스크 화이트, 50개입, 1개 / 가격: 13,900원\n",
      "일회용 3중 부직포 마스크 그레이, 50개입, 1개 / 가격: 16,380원\n",
      "일회용 3중 필터 마스크 블랙, 50개입, 1개 / 가격: 16,470원\n",
      "BRTC 바이탈라이저 화이트닝 슬리핑팩 100ml 대용량 수분크림 보습크림 수면팩, 1개, 01. BRTC 비타민 폭탄 수면팩 100mlx1개/C0073, 1 / 가격: 13,520원\n",
      "미즈온 씨위드 솔루션 블랙 마스크, 1개입, 10개 / 가격: 21,000원\n",
      "일회용 3중 부직포 마스크 블랙, 50개입, 1개 / 가격: 16,470원\n",
      "일회용 3중 부직포 마스크 핑크, 50개입, 1개 / 가격: 14,400원\n",
      "록키스 리얼 트윙클 마스크팩, 20개입, 1개 / 가격: 14,800원\n",
      "일회용 3중 필터 마스크 핑크, 50개입, 1개 / 가격: 14,400원\n",
      "제이제너스 국내생산 위생적인 일회용 김서림방지 특허 화이트 마스크 10매, 1set, 10매입 / 가격: 9,900원\n",
      "워크라인 국내발송 3중필터 일회용 마스크 1박스(50매) 화이트, 1박스, 50매 / 가격: 16,900원\n",
      "일회용 의료용 마스크 3단 구조 50매 세트, 1팩, 50p / 가격: 18,900원\n",
      "BYERLY 일회용 마스크 50매(블랙) 멜트블로운필터 고급형, 50매입 / 가격: 22,900원\n",
      "쿠팡 브랜드 - 탐사 퀵드라이 항균 패션 마스크 대형 2개입 / 가격: 7,990원\n",
      "케이에스몰 국내배송 덴탈마스크 3중필터 일회용 마스크 핑크(20매), 20매 / 가격: 10,700원\n",
      "코코 마스크 5매입 블랙 공산품마스크 / 가격: 7,500원\n",
      "블루초이스 마스크, 블루초이스 마스크_화이트 / 가격: 18,700원\n",
      "뽀마 국내생산 3D 메쉬 기능성 패션마스크 (국내KC인증) / 가격: 3,900원\n",
      "쿠팡 브랜드 - 탐사 퀵드라이 항균 패션 마스크 대형 / 가격: 5,990원\n",
      "블랑플뢰르 국내생산 은 항균 마스크 M L / 가격: 3,800원\n",
      "케이에스몰 (개별포장) 국내배송 덴탈마스크 3중필터 일회용 마스크 블랙(20매), 20매 / 가격: 11,500원\n",
      "마이미 3D3중MB필터 마스크 (100%방수)숨 +귀편한 인증 [무배+당일] 입체밀착+ 만족도+ 물량확보+ 착한가격 성인 아동, 1박스, 10매입 / 가격: 9,900원\n",
      "제이제너스 당일출고 국내배송 위생적인 개별 포장 화이트 일회용 마스크 50매, 1box, 50매입 / 가격: 29,800원\n",
      "휴네이처 개별포장 3중필터 일회용 마스크 블랙, 1세트, 20개입 / 가격: 11,400원\n",
      "국내배송 당일출고 닥터노바 3중필터 덴탈 일회용 마스크 화이트, 50매입, 1box / 가격: 23,000원\n",
      "100% 국내생산 KF94 고급개별포장 방역마스크 대형 화이트, 10매입 / 가격: 23,000원\n",
      "3중 필터 덴탈 마스크 화이트, 50개입, 1개 / 가격: 19,800원\n",
      "본생활 멜트블라운필터 마스크 50매 국내배송, 1개, 25개 / 가격: 13,900원\n",
      "WAKUM 일회용 마스크 50매(블랙) 고급형 멜트블로우필터 당일출고, 50매 / 가격: 22,800원\n",
      "오르카 필터교체형 쿨링 면마스크 항균 3겹 여름용 흡한속건 통기성우수 마스크+패드세트 코와이어 입체 대형 국내생산, 1개 / 가격: 14,900원\n",
      "[효성] 3D 입체마스크 연예인마스크 빨아쓰는 마스크 국내자체공장생산 특허받은 효성원단사용 / 가격: 2,900원\n",
      "3D 위생적인 일반 마스크 대형 5매입 공산품 끈조절 일회용 / 가격: 5,990원\n",
      "이노센트 일반마스크, 1팩, 10개입 / 가격: 13,000원\n",
      "한스웰 KC인증 국산 일회용 마스크 3중필터 MB 멜트블로운 3D 입체형 1매 10매 50매 100매 OPP 포장 / 가격: 9,800원\n",
      "IDE 3중 멜트블로운 일회용 마스크 블루, 1개입, 50개 / 가격: 11,380원\n"
     ]
    }
   ],
   "source": [
    "for item in item_list:\n",
    "    item_title = item.select('.name')[0].text\n",
    "    item_price = item.select('.price-value')[0].text\n",
    "    # ex) 일회용 마스크 블랙 50매 / 가격: 35000원\n",
    "    print(\"{0} / 가격: {1}원\".format(item_title, item_price))\n",
    "    "
   ]
  },
  {
   "cell_type": "code",
   "execution_count": null,
   "metadata": {},
   "outputs": [],
   "source": []
  },
  {
   "cell_type": "code",
   "execution_count": null,
   "metadata": {},
   "outputs": [],
   "source": []
  },
  {
   "cell_type": "code",
   "execution_count": null,
   "metadata": {},
   "outputs": [],
   "source": []
  },
  {
   "cell_type": "code",
   "execution_count": null,
   "metadata": {},
   "outputs": [],
   "source": []
  }
 ],
 "metadata": {
  "kernelspec": {
   "display_name": "Python 3",
   "language": "python",
   "name": "python3"
  },
  "language_info": {
   "codemirror_mode": {
    "name": "ipython",
    "version": 3
   },
   "file_extension": ".py",
   "mimetype": "text/x-python",
   "name": "python",
   "nbconvert_exporter": "python",
   "pygments_lexer": "ipython3",
   "version": "3.7.4"
  }
 },
 "nbformat": 4,
 "nbformat_minor": 2
}
