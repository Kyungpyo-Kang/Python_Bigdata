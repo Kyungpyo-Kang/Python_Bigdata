{
 "cells": [
  {
   "cell_type": "markdown",
   "metadata": {},
   "source": [
    "# 영화진흥원  api를 이용하여 일별 박스오피스 데이터 수집하기"
   ]
  },
  {
   "cell_type": "code",
   "execution_count": 1,
   "metadata": {},
   "outputs": [],
   "source": [
    "import requests\n",
    "import json\n",
    "import pandas as pd\n",
    "import numpy as np"
   ]
  },
  {
   "cell_type": "code",
   "execution_count": 7,
   "metadata": {},
   "outputs": [],
   "source": [
    "apikey = '430156241533f1d058c603178cc3ca0e'\n",
    "targetDt = '20190522'\n",
    "url = 'http://www.kobis.or.kr/kobisopenapi/webservice/rest/boxoffice/searchDailyBoxOfficeList.json?key='+apikey+'&targetDt='+targetDt"
   ]
  },
  {
   "cell_type": "code",
   "execution_count": 8,
   "metadata": {},
   "outputs": [
    {
     "name": "stdout",
     "output_type": "stream",
     "text": [
      "<Response [200]>\n"
     ]
    }
   ],
   "source": [
    "# url 페이지로 요청하기\n",
    "response = requests.get(url)\n",
    "print(response)"
   ]
  },
  {
   "cell_type": "code",
   "execution_count": 4,
   "metadata": {},
   "outputs": [],
   "source": [
    "# 응답받은 데이터 확인하기\n",
    "data = json.loads(response.text)"
   ]
  },
  {
   "cell_type": "markdown",
   "metadata": {},
   "source": [
    "# 수집할 데이터 선정하기\n",
    "- rank(순위)\n",
    "- rankOldAndNew(신규진입여부)\n",
    "- movieCd(영화코드)\n",
    "- movieNm(영화명)\n",
    "- salesAmt(매출액)\n",
    "- audiCnt(관객수)\n",
    "- scrnCnt(스크린수)\n",
    "- showCnt(상영횟수)"
   ]
  },
  {
   "cell_type": "code",
   "execution_count": 5,
   "metadata": {},
   "outputs": [],
   "source": [
    "items = data['boxOfficeResult']['dailyBoxOfficeList']"
   ]
  },
  {
   "cell_type": "code",
   "execution_count": 6,
   "metadata": {},
   "outputs": [],
   "source": [
    "key_list = ['rank','rankOldAndNew','movieCd','movieNm','salesAmt','audiCnt','scrnCnt','showCnt']"
   ]
  },
  {
   "cell_type": "code",
   "execution_count": 7,
   "metadata": {},
   "outputs": [],
   "source": [
    "# items의 모든 수집할 키의 데이터 조회\n",
    "movie_list = []\n",
    "for item in items:\n",
    "    temp_list = []\n",
    "    for key in key_list:\n",
    "        # print(key,' : ',item[key])\n",
    "        temp_list.append(item[key])\n",
    "    temp_list.append(targetDt)\n",
    "    movie_list.append(temp_list)\n",
    "key_list.append('targetDate')"
   ]
  },
  {
   "cell_type": "code",
   "execution_count": 8,
   "metadata": {},
   "outputs": [
    {
     "data": {
      "text/html": [
       "<div>\n",
       "<style scoped>\n",
       "    .dataframe tbody tr th:only-of-type {\n",
       "        vertical-align: middle;\n",
       "    }\n",
       "\n",
       "    .dataframe tbody tr th {\n",
       "        vertical-align: top;\n",
       "    }\n",
       "\n",
       "    .dataframe thead th {\n",
       "        text-align: right;\n",
       "    }\n",
       "</style>\n",
       "<table border=\"1\" class=\"dataframe\">\n",
       "  <thead>\n",
       "    <tr style=\"text-align: right;\">\n",
       "      <th></th>\n",
       "      <th>rank</th>\n",
       "      <th>rankOldAndNew</th>\n",
       "      <th>movieCd</th>\n",
       "      <th>movieNm</th>\n",
       "      <th>salesAmt</th>\n",
       "      <th>audiCnt</th>\n",
       "      <th>scrnCnt</th>\n",
       "      <th>showCnt</th>\n",
       "      <th>targetDate</th>\n",
       "    </tr>\n",
       "  </thead>\n",
       "  <tbody>\n",
       "    <tr>\n",
       "      <td>0</td>\n",
       "      <td>1</td>\n",
       "      <td>OLD</td>\n",
       "      <td>20188941</td>\n",
       "      <td>악인전</td>\n",
       "      <td>1073215440</td>\n",
       "      <td>130018</td>\n",
       "      <td>1124</td>\n",
       "      <td>6040</td>\n",
       "      <td>20190522</td>\n",
       "    </tr>\n",
       "    <tr>\n",
       "      <td>1</td>\n",
       "      <td>2</td>\n",
       "      <td>OLD</td>\n",
       "      <td>20184082</td>\n",
       "      <td>걸캅스</td>\n",
       "      <td>311690020</td>\n",
       "      <td>38840</td>\n",
       "      <td>714</td>\n",
       "      <td>3072</td>\n",
       "      <td>20190522</td>\n",
       "    </tr>\n",
       "    <tr>\n",
       "      <td>2</td>\n",
       "      <td>3</td>\n",
       "      <td>OLD</td>\n",
       "      <td>20184889</td>\n",
       "      <td>어벤져스: 엔드게임</td>\n",
       "      <td>330876580</td>\n",
       "      <td>35466</td>\n",
       "      <td>698</td>\n",
       "      <td>2205</td>\n",
       "      <td>20190522</td>\n",
       "    </tr>\n",
       "    <tr>\n",
       "      <td>3</td>\n",
       "      <td>4</td>\n",
       "      <td>OLD</td>\n",
       "      <td>20199448</td>\n",
       "      <td>어린 의뢰인</td>\n",
       "      <td>169077420</td>\n",
       "      <td>21262</td>\n",
       "      <td>654</td>\n",
       "      <td>2838</td>\n",
       "      <td>20190522</td>\n",
       "    </tr>\n",
       "    <tr>\n",
       "      <td>4</td>\n",
       "      <td>5</td>\n",
       "      <td>OLD</td>\n",
       "      <td>20187981</td>\n",
       "      <td>배심원들</td>\n",
       "      <td>79526850</td>\n",
       "      <td>10172</td>\n",
       "      <td>460</td>\n",
       "      <td>1106</td>\n",
       "      <td>20190522</td>\n",
       "    </tr>\n",
       "    <tr>\n",
       "      <td>5</td>\n",
       "      <td>6</td>\n",
       "      <td>OLD</td>\n",
       "      <td>20185784</td>\n",
       "      <td>나의 특별한 형제</td>\n",
       "      <td>42687180</td>\n",
       "      <td>5800</td>\n",
       "      <td>287</td>\n",
       "      <td>583</td>\n",
       "      <td>20190522</td>\n",
       "    </tr>\n",
       "    <tr>\n",
       "      <td>6</td>\n",
       "      <td>7</td>\n",
       "      <td>OLD</td>\n",
       "      <td>20198598</td>\n",
       "      <td>명탐정 피카츄</td>\n",
       "      <td>44479360</td>\n",
       "      <td>5548</td>\n",
       "      <td>266</td>\n",
       "      <td>512</td>\n",
       "      <td>20190522</td>\n",
       "    </tr>\n",
       "    <tr>\n",
       "      <td>7</td>\n",
       "      <td>8</td>\n",
       "      <td>OLD</td>\n",
       "      <td>20198597</td>\n",
       "      <td>교회오빠</td>\n",
       "      <td>25336510</td>\n",
       "      <td>3231</td>\n",
       "      <td>152</td>\n",
       "      <td>199</td>\n",
       "      <td>20190522</td>\n",
       "    </tr>\n",
       "    <tr>\n",
       "      <td>8</td>\n",
       "      <td>9</td>\n",
       "      <td>OLD</td>\n",
       "      <td>20190725</td>\n",
       "      <td>물의 기억</td>\n",
       "      <td>7812300</td>\n",
       "      <td>1459</td>\n",
       "      <td>49</td>\n",
       "      <td>100</td>\n",
       "      <td>20190522</td>\n",
       "    </tr>\n",
       "    <tr>\n",
       "      <td>9</td>\n",
       "      <td>10</td>\n",
       "      <td>NEW</td>\n",
       "      <td>20183867</td>\n",
       "      <td>알라딘</td>\n",
       "      <td>12687300</td>\n",
       "      <td>1394</td>\n",
       "      <td>5</td>\n",
       "      <td>5</td>\n",
       "      <td>20190522</td>\n",
       "    </tr>\n",
       "  </tbody>\n",
       "</table>\n",
       "</div>"
      ],
      "text/plain": [
       "  rank rankOldAndNew   movieCd     movieNm    salesAmt audiCnt scrnCnt  \\\n",
       "0    1           OLD  20188941         악인전  1073215440  130018    1124   \n",
       "1    2           OLD  20184082         걸캅스   311690020   38840     714   \n",
       "2    3           OLD  20184889  어벤져스: 엔드게임   330876580   35466     698   \n",
       "3    4           OLD  20199448      어린 의뢰인   169077420   21262     654   \n",
       "4    5           OLD  20187981        배심원들    79526850   10172     460   \n",
       "5    6           OLD  20185784   나의 특별한 형제    42687180    5800     287   \n",
       "6    7           OLD  20198598     명탐정 피카츄    44479360    5548     266   \n",
       "7    8           OLD  20198597        교회오빠    25336510    3231     152   \n",
       "8    9           OLD  20190725       물의 기억     7812300    1459      49   \n",
       "9   10           NEW  20183867         알라딘    12687300    1394       5   \n",
       "\n",
       "  showCnt targetDate  \n",
       "0    6040   20190522  \n",
       "1    3072   20190522  \n",
       "2    2205   20190522  \n",
       "3    2838   20190522  \n",
       "4    1106   20190522  \n",
       "5     583   20190522  \n",
       "6     512   20190522  \n",
       "7     199   20190522  \n",
       "8     100   20190522  \n",
       "9       5   20190522  "
      ]
     },
     "execution_count": 8,
     "metadata": {},
     "output_type": "execute_result"
    }
   ],
   "source": [
    "# 실습하기. \n",
    "# columns를 key_list로 맵핑\n",
    "df = pd.DataFrame(movie_list, columns=key_list)\n",
    "df"
   ]
  },
  {
   "cell_type": "markdown",
   "metadata": {},
   "source": [
    "# 오늘 배운 openapi를 이용해서 20170101~20171231까지의 데이터 수집\n",
    "- 수집해서 movie.csv로 저장하기"
   ]
  },
  {
   "cell_type": "code",
   "execution_count": 16,
   "metadata": {},
   "outputs": [
    {
     "ename": "KeyError",
     "evalue": "'boxOfficeResult'",
     "output_type": "error",
     "traceback": [
      "\u001b[0;31m---------------------------------------------------------------------------\u001b[0m",
      "\u001b[0;31mKeyError\u001b[0m                                  Traceback (most recent call last)",
      "\u001b[0;32m<ipython-input-16-0722ee4fdd5b>\u001b[0m in \u001b[0;36m<module>\u001b[0;34m\u001b[0m\n\u001b[1;32m      9\u001b[0m     \u001b[0mdata\u001b[0m \u001b[0;34m=\u001b[0m \u001b[0mjson\u001b[0m\u001b[0;34m.\u001b[0m\u001b[0mloads\u001b[0m\u001b[0;34m(\u001b[0m\u001b[0mresponse\u001b[0m\u001b[0;34m.\u001b[0m\u001b[0mtext\u001b[0m\u001b[0;34m)\u001b[0m\u001b[0;34m\u001b[0m\u001b[0;34m\u001b[0m\u001b[0m\n\u001b[1;32m     10\u001b[0m \u001b[0;34m\u001b[0m\u001b[0m\n\u001b[0;32m---> 11\u001b[0;31m     \u001b[0mitems\u001b[0m \u001b[0;34m=\u001b[0m \u001b[0mdata\u001b[0m\u001b[0;34m[\u001b[0m\u001b[0;34m'boxOfficeResult'\u001b[0m\u001b[0;34m]\u001b[0m\u001b[0;34m[\u001b[0m\u001b[0;34m'dailyBoxOfficeList'\u001b[0m\u001b[0;34m]\u001b[0m\u001b[0;34m\u001b[0m\u001b[0;34m\u001b[0m\u001b[0m\n\u001b[0m\u001b[1;32m     12\u001b[0m \u001b[0;34m\u001b[0m\u001b[0m\n\u001b[1;32m     13\u001b[0m     \u001b[0;32mfor\u001b[0m \u001b[0mitem\u001b[0m \u001b[0;32min\u001b[0m \u001b[0mitems\u001b[0m\u001b[0;34m:\u001b[0m\u001b[0;34m\u001b[0m\u001b[0;34m\u001b[0m\u001b[0m\n",
      "\u001b[0;31mKeyError\u001b[0m: 'boxOfficeResult'"
     ]
    }
   ],
   "source": [
    "# 날짜를 yyyymmdd형태로 변경하기\n",
    "date = ''\n",
    "key_list = ['rank','rankOldAndNew','movieCd','movieNm','salesAmt','audiCnt','scrnCnt','showCnt']\n",
    "movie_list = []\n",
    "for single_date in pd.date_range('20170101','20171231'):\n",
    "    date = single_date.strftime('%Y%m%d')\n",
    "    url = 'http://www.kobis.or.kr/kobisopenapi/webservice/rest/boxoffice/searchDailyBoxOfficeList.json?key='+key+'&targetDt='+date\n",
    "    response = requests.get(url)\n",
    "    data = json.loads(response.text)\n",
    "    \n",
    "    items = data['boxOfficeResult']['dailyBoxOfficeList']\n",
    "    \n",
    "    for item in items:\n",
    "        temp_list = []\n",
    "        for key in key_list:\n",
    "            # print(key,' : ',item[key])\n",
    "            temp_list.append(item[key])\n",
    "        temp_list.append(targetDt)\n",
    "        movie_list.append(temp_list)\n",
    "key_list.append('targetDate')"
   ]
  },
  {
   "cell_type": "code",
   "execution_count": null,
   "metadata": {},
   "outputs": [],
   "source": []
  },
  {
   "cell_type": "code",
   "execution_count": null,
   "metadata": {},
   "outputs": [],
   "source": []
  },
  {
   "cell_type": "code",
   "execution_count": null,
   "metadata": {},
   "outputs": [],
   "source": []
  },
  {
   "cell_type": "code",
   "execution_count": null,
   "metadata": {},
   "outputs": [],
   "source": []
  }
 ],
 "metadata": {
  "kernelspec": {
   "display_name": "Python 3",
   "language": "python",
   "name": "python3"
  },
  "language_info": {
   "codemirror_mode": {
    "name": "ipython",
    "version": 3
   },
   "file_extension": ".py",
   "mimetype": "text/x-python",
   "name": "python",
   "nbconvert_exporter": "python",
   "pygments_lexer": "ipython3",
   "version": "3.7.4"
  }
 },
 "nbformat": 4,
 "nbformat_minor": 2
}
