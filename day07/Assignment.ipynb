{
 "cells": [
  {
   "cell_type": "code",
   "execution_count": 1,
   "metadata": {},
   "outputs": [],
   "source": [
    "import requests\n",
    "import json\n",
    "import pandas as pd\n",
    "import numpy as np"
   ]
  },
  {
   "cell_type": "code",
   "execution_count": 65,
   "metadata": {},
   "outputs": [],
   "source": [
    "my_key ='afc5d9062964db8bffb7ec2406e5c679'\n",
    "data_list = []\n",
    "key_list = ['rank','rankOldAndNew','movieCd','movieNm','salesAmt','audiCnt','scrnCnt','showCnt']\n",
    "item_list = []\n",
    "movie_list = []"
   ]
  },
  {
   "cell_type": "code",
   "execution_count": 66,
   "metadata": {},
   "outputs": [],
   "source": [
    "date_list = []\n",
    "for single_date in pd.date_range('20170101','20171231'):\n",
    "    targetDt = single_date.strftime('%Y%m%d')\n",
    "    url = 'http://www.kobis.or.kr/kobisopenapi/webservice/rest/boxoffice/searchDailyBoxOfficeList.json?key='+my_key+'&targetDt='+targetDt\n",
    "    response = requests.get(url)\n",
    "    data_list.append(json.loads(response.text))\n",
    "    date_list.append(targetDt)"
   ]
  },
  {
   "cell_type": "code",
   "execution_count": 67,
   "metadata": {},
   "outputs": [],
   "source": [
    "for data in data_list:\n",
    "    item_list.append(data['boxOfficeResult']['dailyBoxOfficeList'])"
   ]
  },
  {
   "cell_type": "code",
   "execution_count": 19,
   "metadata": {},
   "outputs": [
    {
     "data": {
      "text/plain": [
       "{'rnum': '1',\n",
       " 'rank': '1',\n",
       " 'rankInten': '0',\n",
       " 'rankOldAndNew': 'OLD',\n",
       " 'movieCd': '20161725',\n",
       " 'movieNm': '마스터',\n",
       " 'openDt': '2016-12-21',\n",
       " 'salesAmt': '4399793100',\n",
       " 'salesShare': '46.3',\n",
       " 'salesInten': '-183705150',\n",
       " 'salesChange': '-4',\n",
       " 'salesAcc': '44184434165',\n",
       " 'audiCnt': '506299',\n",
       " 'audiInten': '-31485',\n",
       " 'audiChange': '-5.9',\n",
       " 'audiAcc': '5441619',\n",
       " 'scrnCnt': '1245',\n",
       " 'showCnt': '5721'}"
      ]
     },
     "execution_count": 19,
     "metadata": {},
     "output_type": "execute_result"
    }
   ],
   "source": [
    "items[0]"
   ]
  },
  {
   "cell_type": "code",
   "execution_count": 68,
   "metadata": {},
   "outputs": [],
   "source": [
    "for single_date in pd.date_range('20170101','20171231'):\n",
    "    my_date = single_date.strftime('%Y%m%d')\n",
    "    date_list.append(my_date)"
   ]
  },
  {
   "cell_type": "code",
   "execution_count": 55,
   "metadata": {},
   "outputs": [
    {
     "data": {
      "text/plain": [
       "365"
      ]
     },
     "execution_count": 55,
     "metadata": {},
     "output_type": "execute_result"
    }
   ],
   "source": [
    "len(item_list)"
   ]
  },
  {
   "cell_type": "code",
   "execution_count": 88,
   "metadata": {},
   "outputs": [],
   "source": [
    "index = 0\n",
    "for items in item_list:\n",
    "    for item in items:\n",
    "        temp_list = []\n",
    "        for key in key_list:\n",
    "            # print(key,' : ',item[key])\n",
    "            temp_list.append(item[key])\n",
    "        temp_list.append(date_list[index])\n",
    "        movie_list.append(temp_list)\n",
    "    index += 1"
   ]
  },
  {
   "cell_type": "code",
   "execution_count": 89,
   "metadata": {},
   "outputs": [],
   "source": [
    "key_list.append('targetDate')"
   ]
  },
  {
   "cell_type": "code",
   "execution_count": 87,
   "metadata": {},
   "outputs": [],
   "source": [
    "key_list = ['rank','rankOldAndNew','movieCd','movieNm','salesAmt','audiCnt','scrnCnt','showCnt']"
   ]
  },
  {
   "cell_type": "code",
   "execution_count": 86,
   "metadata": {},
   "outputs": [],
   "source": [
    "movie_list = []"
   ]
  },
  {
   "cell_type": "code",
   "execution_count": 91,
   "metadata": {},
   "outputs": [
    {
     "data": {
      "text/html": [
       "<div>\n",
       "<style scoped>\n",
       "    .dataframe tbody tr th:only-of-type {\n",
       "        vertical-align: middle;\n",
       "    }\n",
       "\n",
       "    .dataframe tbody tr th {\n",
       "        vertical-align: top;\n",
       "    }\n",
       "\n",
       "    .dataframe thead th {\n",
       "        text-align: right;\n",
       "    }\n",
       "</style>\n",
       "<table border=\"1\" class=\"dataframe\">\n",
       "  <thead>\n",
       "    <tr style=\"text-align: right;\">\n",
       "      <th></th>\n",
       "      <th>rank</th>\n",
       "      <th>rankOldAndNew</th>\n",
       "      <th>movieCd</th>\n",
       "      <th>movieNm</th>\n",
       "      <th>salesAmt</th>\n",
       "      <th>audiCnt</th>\n",
       "      <th>scrnCnt</th>\n",
       "      <th>showCnt</th>\n",
       "      <th>targetDate</th>\n",
       "    </tr>\n",
       "  </thead>\n",
       "  <tbody>\n",
       "    <tr>\n",
       "      <th>0</th>\n",
       "      <td>1</td>\n",
       "      <td>OLD</td>\n",
       "      <td>20161725</td>\n",
       "      <td>마스터</td>\n",
       "      <td>4399793100</td>\n",
       "      <td>506299</td>\n",
       "      <td>1245</td>\n",
       "      <td>5721</td>\n",
       "      <td>20170101</td>\n",
       "    </tr>\n",
       "    <tr>\n",
       "      <th>1</th>\n",
       "      <td>2</td>\n",
       "      <td>OLD</td>\n",
       "      <td>20163183</td>\n",
       "      <td>로그 원: 스타워즈 스토리</td>\n",
       "      <td>1612424700</td>\n",
       "      <td>173451</td>\n",
       "      <td>810</td>\n",
       "      <td>3335</td>\n",
       "      <td>20170101</td>\n",
       "    </tr>\n",
       "    <tr>\n",
       "      <th>2</th>\n",
       "      <td>3</td>\n",
       "      <td>OLD</td>\n",
       "      <td>20162025</td>\n",
       "      <td>씽</td>\n",
       "      <td>943975500</td>\n",
       "      <td>115152</td>\n",
       "      <td>721</td>\n",
       "      <td>1755</td>\n",
       "      <td>20170101</td>\n",
       "    </tr>\n",
       "    <tr>\n",
       "      <th>3</th>\n",
       "      <td>4</td>\n",
       "      <td>OLD</td>\n",
       "      <td>20144641</td>\n",
       "      <td>판도라</td>\n",
       "      <td>736891900</td>\n",
       "      <td>87966</td>\n",
       "      <td>576</td>\n",
       "      <td>1476</td>\n",
       "      <td>20170101</td>\n",
       "    </tr>\n",
       "    <tr>\n",
       "      <th>4</th>\n",
       "      <td>5</td>\n",
       "      <td>OLD</td>\n",
       "      <td>20167904</td>\n",
       "      <td>라라랜드</td>\n",
       "      <td>770889600</td>\n",
       "      <td>87529</td>\n",
       "      <td>590</td>\n",
       "      <td>1578</td>\n",
       "      <td>20170101</td>\n",
       "    </tr>\n",
       "    <tr>\n",
       "      <th>...</th>\n",
       "      <td>...</td>\n",
       "      <td>...</td>\n",
       "      <td>...</td>\n",
       "      <td>...</td>\n",
       "      <td>...</td>\n",
       "      <td>...</td>\n",
       "      <td>...</td>\n",
       "      <td>...</td>\n",
       "      <td>...</td>\n",
       "    </tr>\n",
       "    <tr>\n",
       "      <th>3645</th>\n",
       "      <td>6</td>\n",
       "      <td>OLD</td>\n",
       "      <td>20176082</td>\n",
       "      <td>몬스터 패밀리</td>\n",
       "      <td>201204400</td>\n",
       "      <td>26393</td>\n",
       "      <td>350</td>\n",
       "      <td>479</td>\n",
       "      <td>20171231</td>\n",
       "    </tr>\n",
       "    <tr>\n",
       "      <th>3646</th>\n",
       "      <td>7</td>\n",
       "      <td>OLD</td>\n",
       "      <td>20176947</td>\n",
       "      <td>원더</td>\n",
       "      <td>171061300</td>\n",
       "      <td>20934</td>\n",
       "      <td>178</td>\n",
       "      <td>415</td>\n",
       "      <td>20171231</td>\n",
       "    </tr>\n",
       "    <tr>\n",
       "      <th>3647</th>\n",
       "      <td>8</td>\n",
       "      <td>OLD</td>\n",
       "      <td>20174846</td>\n",
       "      <td>뽀로로 극장판 공룡섬 대모험</td>\n",
       "      <td>109147200</td>\n",
       "      <td>13753</td>\n",
       "      <td>208</td>\n",
       "      <td>288</td>\n",
       "      <td>20171231</td>\n",
       "    </tr>\n",
       "    <tr>\n",
       "      <th>3648</th>\n",
       "      <td>9</td>\n",
       "      <td>OLD</td>\n",
       "      <td>20177479</td>\n",
       "      <td>극장판 프리파라 모두의 동경♪ 렛츠고☆프리파리</td>\n",
       "      <td>52851100</td>\n",
       "      <td>6633</td>\n",
       "      <td>183</td>\n",
       "      <td>291</td>\n",
       "      <td>20171231</td>\n",
       "    </tr>\n",
       "    <tr>\n",
       "      <th>3649</th>\n",
       "      <td>10</td>\n",
       "      <td>OLD</td>\n",
       "      <td>20170443</td>\n",
       "      <td>스타워즈: 라스트 제다이</td>\n",
       "      <td>39255300</td>\n",
       "      <td>3655</td>\n",
       "      <td>35</td>\n",
       "      <td>44</td>\n",
       "      <td>20171231</td>\n",
       "    </tr>\n",
       "  </tbody>\n",
       "</table>\n",
       "<p>3650 rows × 9 columns</p>\n",
       "</div>"
      ],
      "text/plain": [
       "     rank rankOldAndNew   movieCd                    movieNm    salesAmt  \\\n",
       "0       1           OLD  20161725                        마스터  4399793100   \n",
       "1       2           OLD  20163183             로그 원: 스타워즈 스토리  1612424700   \n",
       "2       3           OLD  20162025                          씽   943975500   \n",
       "3       4           OLD  20144641                        판도라   736891900   \n",
       "4       5           OLD  20167904                       라라랜드   770889600   \n",
       "...   ...           ...       ...                        ...         ...   \n",
       "3645    6           OLD  20176082                    몬스터 패밀리   201204400   \n",
       "3646    7           OLD  20176947                         원더   171061300   \n",
       "3647    8           OLD  20174846            뽀로로 극장판 공룡섬 대모험   109147200   \n",
       "3648    9           OLD  20177479  극장판 프리파라 모두의 동경♪ 렛츠고☆프리파리    52851100   \n",
       "3649   10           OLD  20170443              스타워즈: 라스트 제다이    39255300   \n",
       "\n",
       "     audiCnt scrnCnt showCnt targetDate  \n",
       "0     506299    1245    5721   20170101  \n",
       "1     173451     810    3335   20170101  \n",
       "2     115152     721    1755   20170101  \n",
       "3      87966     576    1476   20170101  \n",
       "4      87529     590    1578   20170101  \n",
       "...      ...     ...     ...        ...  \n",
       "3645   26393     350     479   20171231  \n",
       "3646   20934     178     415   20171231  \n",
       "3647   13753     208     288   20171231  \n",
       "3648    6633     183     291   20171231  \n",
       "3649    3655      35      44   20171231  \n",
       "\n",
       "[3650 rows x 9 columns]"
      ]
     },
     "execution_count": 91,
     "metadata": {},
     "output_type": "execute_result"
    }
   ],
   "source": [
    "df = pd.DataFrame(movie_list, columns=key_list)\n",
    "df"
   ]
  },
  {
   "cell_type": "code",
   "execution_count": null,
   "metadata": {},
   "outputs": [],
   "source": [
    "df"
   ]
  }
 ],
 "metadata": {
  "kernelspec": {
   "display_name": "Python 3",
   "language": "python",
   "name": "python3"
  },
  "language_info": {
   "codemirror_mode": {
    "name": "ipython",
    "version": 3
   },
   "file_extension": ".py",
   "mimetype": "text/x-python",
   "name": "python",
   "nbconvert_exporter": "python",
   "pygments_lexer": "ipython3",
   "version": "3.7.7"
  }
 },
 "nbformat": 4,
 "nbformat_minor": 2
}
