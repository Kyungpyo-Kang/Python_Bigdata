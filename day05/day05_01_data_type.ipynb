{
 "cells": [
  {
   "cell_type": "markdown",
   "metadata": {},
   "source": [
    "## day05_01_data_type\n",
    "+ 데이터 타입예제"
   ]
  },
  {
   "cell_type": "code",
   "execution_count": 1,
   "metadata": {},
   "outputs": [
    {
     "name": "stdout",
     "output_type": "stream",
     "text": [
      "hello\n"
     ]
    }
   ],
   "source": [
    "# #은 주석을 뜻한다.\n",
    "print('hello')"
   ]
  },
  {
   "cell_type": "code",
   "execution_count": 2,
   "metadata": {},
   "outputs": [
    {
     "name": "stdout",
     "output_type": "stream",
     "text": [
      "hello1\n",
      "hello2\n"
     ]
    }
   ],
   "source": [
    "print('hello1')\n",
    "print('hello2')"
   ]
  },
  {
   "cell_type": "markdown",
   "metadata": {},
   "source": [
    "# 데이터 타입\n",
    "\n",
    "\n",
    "## 숫자형"
   ]
  },
  {
   "cell_type": "code",
   "execution_count": 5,
   "metadata": {},
   "outputs": [
    {
     "name": "stdout",
     "output_type": "stream",
     "text": [
      "123\n",
      "-123\n",
      "0\n"
     ]
    }
   ],
   "source": [
    "# 정수형\n",
    "a = 123\n",
    "b = -123\n",
    "print(a)\n",
    "print(b)\n",
    "print(a+b)"
   ]
  },
  {
   "cell_type": "code",
   "execution_count": 8,
   "metadata": {},
   "outputs": [
    {
     "name": "stdout",
     "output_type": "stream",
     "text": [
      "123.123\n",
      "100.1\n",
      "23.02300000000001\n"
     ]
    }
   ],
   "source": [
    "# 실수형 \n",
    "c = 123.123\n",
    "d = 100.100\n",
    "print(c)\n",
    "print(d)\n",
    "\n",
    "# 123.123 - 100.100\n",
    "# - 정확하게 계산할 수 없는 부분에 대해서는 0.00000001이 붙는다.\n",
    "print(c-d)"
   ]
  },
  {
   "cell_type": "code",
   "execution_count": 10,
   "metadata": {},
   "outputs": [
    {
     "data": {
      "text/plain": [
       "True"
      ]
     },
     "execution_count": 10,
     "metadata": {},
     "output_type": "execute_result"
    }
   ],
   "source": [
    "123.123 == 123.123"
   ]
  },
  {
   "cell_type": "markdown",
   "metadata": {},
   "source": [
    "### 문자형"
   ]
  },
  {
   "cell_type": "code",
   "execution_count": 12,
   "metadata": {},
   "outputs": [
    {
     "name": "stdout",
     "output_type": "stream",
     "text": [
      "문자형 만드는 법1 - 작은 따옴표\n",
      "문자형 만드는 법1 - 큰 따옴표\n",
      "\n",
      "이렇게 하면 가독성 좋게\n",
      "만들어지며, 여러 줄 입력이\n",
      "가능하다.\n",
      "\n"
     ]
    }
   ],
   "source": [
    "# 문자형을 만드는 방법\n",
    "print('문자형 만드는 법1 - 작은 따옴표')\n",
    "print('문자형 만드는 법1 - 큰 따옴표')\n",
    "\n",
    "# 가독성 좋게 만드는 방법\n",
    "a = '''\n",
    "이렇게 하면 가독성 좋게\n",
    "만들어지며, 여러 줄 입력이\n",
    "가능하다.\n",
    "'''\n",
    "\n",
    "print(a)"
   ]
  },
  {
   "cell_type": "markdown",
   "metadata": {},
   "source": [
    "# 파이썬은 문자형이 존재하지 않는다.\n",
    "+ 문자열만 존재한다."
   ]
  },
  {
   "cell_type": "code",
   "execution_count": 1,
   "metadata": {},
   "outputs": [
    {
     "name": "stdout",
     "output_type": "stream",
     "text": [
      "hello world\n",
      "h\n",
      "w\n",
      "hello \n"
     ]
    }
   ],
   "source": [
    "a = 'hello world'\n",
    "print(a)\n",
    "print(a[0]) # h\n",
    "print(a[6]) # w\n",
    "print(a[0:6]) # 0번째 방부터 6번째 방 전까지"
   ]
  },
  {
   "cell_type": "code",
   "execution_count": 16,
   "metadata": {},
   "outputs": [
    {
     "name": "stdout",
     "output_type": "stream",
     "text": [
      "orld\n"
     ]
    }
   ],
   "source": [
    "# 7번째 방부터 끝까지\n",
    "print(a[7:])"
   ]
  },
  {
   "cell_type": "code",
   "execution_count": 2,
   "metadata": {},
   "outputs": [
    {
     "data": {
      "text/plain": [
       "'hello World'"
      ]
     },
     "execution_count": 2,
     "metadata": {},
     "output_type": "execute_result"
    }
   ],
   "source": [
    "# 실습하기. w를 W로 변경하기\n",
    "# 단, 수정이라는 개념이 아니라, 조합을 해서 변경하기\n",
    "# ex) hello World\n",
    "\n",
    "a[:5]+\" \"+chr(ord(a[6])-32)+a[7:]"
   ]
  },
  {
   "cell_type": "code",
   "execution_count": 6,
   "metadata": {},
   "outputs": [
    {
     "name": "stdout",
     "output_type": "stream",
     "text": [
      "hello korea\n"
     ]
    }
   ],
   "source": [
    "a = 'hello'\n",
    "b = 'korea'\n",
    "print(a,b)"
   ]
  },
  {
   "cell_type": "markdown",
   "metadata": {},
   "source": [
    "### 리스트\n",
    "- 여러가지 데이터형을 동시에 가지고 있는 구조"
   ]
  },
  {
   "cell_type": "code",
   "execution_count": 9,
   "metadata": {},
   "outputs": [
    {
     "data": {
      "text/plain": [
       "2"
      ]
     },
     "execution_count": 9,
     "metadata": {},
     "output_type": "execute_result"
    }
   ],
   "source": [
    "# 만드는 방법\n",
    "a = [1,2,3]\n",
    "# - 실습하기. a에서 2를 출력하기\n",
    "a[1]"
   ]
  },
  {
   "cell_type": "code",
   "execution_count": 14,
   "metadata": {},
   "outputs": [
    {
     "name": "stdout",
     "output_type": "stream",
     "text": [
      "<class 'list'>\n",
      "b\n"
     ]
    }
   ],
   "source": [
    "b = ['a','b','c']\n",
    "# b라는 변수의 데이터 타입을 검사\n",
    "print(type(b)) \n",
    "# 실습하기\n",
    "# b 변수에서 'b'를 출력\n",
    "print(b[1])"
   ]
  },
  {
   "cell_type": "code",
   "execution_count": 27,
   "metadata": {},
   "outputs": [
    {
     "name": "stdout",
     "output_type": "stream",
     "text": [
      "[2, 3, 'a', 'b']\n"
     ]
    }
   ],
   "source": [
    "c = a+b\n",
    "# 실습하기\n",
    "# c변수에서 값을 기준으로 2부터 b까지 출력\n",
    "print(c[1:5])"
   ]
  },
  {
   "cell_type": "markdown",
   "metadata": {},
   "source": [
    "# 리스트 값 수정하기\n",
    "- 리스트는 값의 수정이 가능하다.\n",
    "- 파이썬은 배열형이 존재하지 않는다."
   ]
  },
  {
   "cell_type": "code",
   "execution_count": 28,
   "metadata": {},
   "outputs": [
    {
     "data": {
      "text/plain": [
       "[1, 2, 5, 'a', 'b', 'c']"
      ]
     },
     "execution_count": 28,
     "metadata": {},
     "output_type": "execute_result"
    }
   ],
   "source": [
    "# c변수의 2번째 방의 값 3을 5로 변경하기\n",
    "c[2] = 5\n",
    "c"
   ]
  },
  {
   "cell_type": "code",
   "execution_count": 35,
   "metadata": {},
   "outputs": [],
   "source": [
    "# c변수의 2번째 방의 값 2를 8,9로 변경하기\n",
    "c[2:3] = [8,9] "
   ]
  },
  {
   "cell_type": "code",
   "execution_count": 31,
   "metadata": {},
   "outputs": [],
   "source": [
    "# c변수의 1번째 방의 값 2를 [8,9]로 변경하기\n",
    "c[1] = [8,9]"
   ]
  },
  {
   "cell_type": "code",
   "execution_count": 36,
   "metadata": {},
   "outputs": [
    {
     "data": {
      "text/plain": [
       "[1, [8, 9], 8, 9, 'a', 'b', 'c']"
      ]
     },
     "execution_count": 36,
     "metadata": {},
     "output_type": "execute_result"
    }
   ],
   "source": [
    "c"
   ]
  },
  {
   "cell_type": "markdown",
   "metadata": {},
   "source": [
    "## 딕셔너리\n",
    "- json 형태와 유사\n",
    "- java의 map형태와 유사\n",
    "### key와 value로 이루어진 데이터 타입"
   ]
  },
  {
   "cell_type": "code",
   "execution_count": 48,
   "metadata": {},
   "outputs": [
    {
     "name": "stdout",
     "output_type": "stream",
     "text": [
      "{'baseball': '야구', 'name': 'korea', 1: 100, 'job': [1, 2, 3]}\n",
      "야구\n",
      "korea\n",
      "100\n",
      "3\n"
     ]
    }
   ],
   "source": [
    "# 딕셔너리 자료형 만들기\n",
    "a = {'baseball':'야구', 'name':'korea',1:100, 'job':[1,2,3]}\n",
    "print(a)\n",
    "print(a.get('baseball'))\n",
    "\n",
    "# 고유 key로 []조회가 가능하다.\n",
    "print(a['name'])  \n",
    "print(a[1])\n",
    "\n",
    "# 딕셔너리는 정렬이 되어있지 않으며, 순서가 없다.\n",
    "# 그렇기에 인덱스로 접근할 수 없다.\n",
    "# 만약 키값으로 1이 지정되지 않았다면\n",
    "# print(a[1]) -> 오류난다.\n",
    "\n",
    "# 실습하기\n",
    "# a변수에서 job을 조회해서 값 3을 출력하라\n",
    "print(a['job'][2])"
   ]
  },
  {
   "cell_type": "code",
   "execution_count": 52,
   "metadata": {},
   "outputs": [
    {
     "data": {
      "text/plain": [
       "{'baseball': '야구',\n",
       " 'name': 'korea',\n",
       " 1: 100,\n",
       " 'job': [1, 2, 3],\n",
       " 'python': 'python123'}"
      ]
     },
     "execution_count": 52,
     "metadata": {},
     "output_type": "execute_result"
    }
   ],
   "source": [
    "# 딕셔너리 값 추가하기\n",
    "a['python'] = 'python123'\n",
    "a"
   ]
  },
  {
   "cell_type": "code",
   "execution_count": 53,
   "metadata": {},
   "outputs": [
    {
     "data": {
      "text/plain": [
       "{'baseball': '야구', 'name': 'korea', 1: 100, 'job': [1, 2, 3]}"
      ]
     },
     "execution_count": 53,
     "metadata": {},
     "output_type": "execute_result"
    }
   ],
   "source": [
    "# 딕셔너리 값 삭제하기\n",
    "del a['python']\n",
    "a"
   ]
  }
 ],
 "metadata": {
  "kernelspec": {
   "display_name": "Python 3",
   "language": "python",
   "name": "python3"
  },
  "language_info": {
   "codemirror_mode": {
    "name": "ipython",
    "version": 3
   },
   "file_extension": ".py",
   "mimetype": "text/x-python",
   "name": "python",
   "nbconvert_exporter": "python",
   "pygments_lexer": "ipython3",
   "version": "3.7.4"
  }
 },
 "nbformat": 4,
 "nbformat_minor": 2
}
