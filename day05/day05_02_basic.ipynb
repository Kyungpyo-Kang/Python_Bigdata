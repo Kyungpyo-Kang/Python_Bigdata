{
 "cells": [
  {
   "cell_type": "markdown",
   "metadata": {},
   "source": [
    "# day05_02_basic\n",
    "- 파이썬 기초 문법 배우기"
   ]
  },
  {
   "cell_type": "markdown",
   "metadata": {},
   "source": [
    "## 1. 사칙연산"
   ]
  },
  {
   "cell_type": "code",
   "execution_count": 4,
   "metadata": {},
   "outputs": [
    {
     "name": "stdout",
     "output_type": "stream",
     "text": [
      "2\n",
      "ab\n",
      "[1, 2, 3, 4]\n",
      "[3, 4, 1, 2]\n"
     ]
    }
   ],
   "source": [
    "# 기본연산 - 더하기\n",
    "print(1+1)\n",
    "\n",
    "# 문자연산 - 붙이기(연결)\n",
    "print('a'+'b')\n",
    "\n",
    "# 자료형 연산 - 합치기\n",
    "list01 = [1,2]\n",
    "list02 = [3,4]\n",
    "print(list01+list02)\n",
    "print(list02+list01)"
   ]
  },
  {
   "cell_type": "code",
   "execution_count": 8,
   "metadata": {},
   "outputs": [
    {
     "data": {
      "text/plain": [
       "{1: 1, 2: 2, 3: 3, 4: 4}"
      ]
     },
     "execution_count": 8,
     "metadata": {},
     "output_type": "execute_result"
    }
   ],
   "source": [
    "dict1 = {1:1,2:2}\n",
    "dict2 = {3:3,4:4}\n",
    "\n",
    "# print(dict1+dict2) 오류\n",
    "# 딕셔너리는 키값이 중복될 수 없는데, 딕셔너리 자료구조를 합칠 경우\n",
    "# 키값의 중복이 발생할 수 있다. 따라서 딕셔너리는 합치는 것이 불가능하다.\n",
    "\n",
    "# 딕셔너리를 합치려면 update를 활용하여 수정하듯이 해줘야 한다.\n",
    "# dict1을 기준으로 dict2를 합쳐라\n",
    "dict1.update(dict2)\n",
    "dict1"
   ]
  },
  {
   "cell_type": "code",
   "execution_count": 11,
   "metadata": {},
   "outputs": [
    {
     "name": "stdout",
     "output_type": "stream",
     "text": [
      "1\n",
      "6\n",
      "9\n",
      "1.5\n",
      "1\n",
      "1\n"
     ]
    }
   ],
   "source": [
    "# 나머지 사칙연산\n",
    "print(3-2)\n",
    "print(3*2)\n",
    "print(3**2) # 제곱\n",
    "print( 3 / 2) # 나누기(몫과 나머지를 함께 출력)\n",
    "print(3 // 2) # 몫\n",
    "print(3 % 2 ) # 나머지"
   ]
  },
  {
   "cell_type": "code",
   "execution_count": 14,
   "metadata": {},
   "outputs": [
    {
     "data": {
      "text/plain": [
       "False"
      ]
     },
     "execution_count": 14,
     "metadata": {},
     "output_type": "execute_result"
    }
   ],
   "source": [
    "# 실습하기.\n",
    "# a변수의 값이 짝수인지 검사하는 수식을 만들어라\n",
    "# ex) true인지 false인지 출력\n",
    "a = 7\n",
    "a % 2 == 0"
   ]
  },
  {
   "cell_type": "markdown",
   "metadata": {},
   "source": [
    "## 비교연산자\n",
    "- 응답값이 무조건 True, False"
   ]
  },
  {
   "cell_type": "code",
   "execution_count": 15,
   "metadata": {},
   "outputs": [
    {
     "data": {
      "text/plain": [
       "True"
      ]
     },
     "execution_count": 15,
     "metadata": {},
     "output_type": "execute_result"
    }
   ],
   "source": [
    "1 == 1\n",
    "1 != 1\n",
    "1 > 1\n",
    "1 >= 1\n",
    "'a' == 'a'\n",
    "'a' == 'b'\n",
    "[1,2,3] == [1,2]\n",
    "[1,2,3] == [1,2,3]"
   ]
  },
  {
   "cell_type": "markdown",
   "metadata": {},
   "source": [
    "## 조건문\n",
    "- 조건에 따른 프로그램의 순서를 제어하는 문법"
   ]
  },
  {
   "cell_type": "code",
   "execution_count": 16,
   "metadata": {},
   "outputs": [],
   "source": [
    "# if 조건부:\n",
    "#     구현부"
   ]
  },
  {
   "cell_type": "code",
   "execution_count": 19,
   "metadata": {},
   "outputs": [
    {
     "name": "stdout",
     "output_type": "stream",
     "text": [
      "10보다 크다\n",
      "101\n"
     ]
    }
   ],
   "source": [
    "a = 101\n",
    "# a가 10보다 크면 10보다 크다. 10보다 작거나 같으면 10보다 작거나 같다를 출력\n",
    "# - 10보다 클 경우, a의 값도 출력\n",
    "if a > 10:\n",
    "    print('10보다 크다')\n",
    "    print(a)\n",
    "else:\n",
    "    print('10보다 작거나 같다')\n",
    "    \n"
   ]
  },
  {
   "cell_type": "code",
   "execution_count": 20,
   "metadata": {},
   "outputs": [
    {
     "name": "stdout",
     "output_type": "stream",
     "text": [
      "홀수\n"
     ]
    }
   ],
   "source": [
    "# 실습하기\n",
    "# a의 값이 짝수면 짝수를 출력하고, 홀수면 홀수를 출력하도록\n",
    "# 조건문을 완성시키기\n",
    "a = 7\n",
    "if a%2 ==0:\n",
    "    print('짝수')\n",
    "else:\n",
    "    print('홀수')"
   ]
  },
  {
   "cell_type": "markdown",
   "metadata": {},
   "source": [
    "# 파이썬의 조금 특별한 if 조건문\n",
    "- x in 오브젝트(object)"
   ]
  },
  {
   "cell_type": "code",
   "execution_count": 21,
   "metadata": {},
   "outputs": [
    {
     "name": "stdout",
     "output_type": "stream",
     "text": [
      "찾는 값이 존재합니다\n"
     ]
    }
   ],
   "source": [
    "# 만일 2가 list01에 있으면, 찾는 값이 존재합니다를 출력\n",
    "list01 = [1,2,3,4]\n",
    "\n",
    "if 2 in list01:\n",
    "    print('찾는 값이 존재합니다')"
   ]
  },
  {
   "cell_type": "code",
   "execution_count": 22,
   "metadata": {},
   "outputs": [
    {
     "name": "stdout",
     "output_type": "stream",
     "text": [
      "카드가 존재하니 버스를 타고가자\n"
     ]
    }
   ],
   "source": [
    "# pocket 안에 bill이 존재하면 택시를 타고 가자\n",
    "# pocket 안에 card가 존재하면 카드가 존재하니 버스를 타고가자\n",
    "#                  위의 2가지가 없으면 걸어가자\n",
    "pocket = ['coin','none','card']\n",
    "if 'bill' in pocket:\n",
    "    print(\"택시를 타고 가자\")\n",
    "elif 'card' in pocket:\n",
    "    print('카드가 존재하니 버스를 타고가자')\n",
    "else:\n",
    "    print('걸어가자')\n",
    "    "
   ]
  },
  {
   "cell_type": "markdown",
   "metadata": {},
   "source": [
    "# 반복문\n",
    "- 조건에 따라서 프로그램을 여러번 동작시키는 것\n",
    "- for : 횟수가 중요한 경우\n",
    "- while : 조건이 중요한 경우"
   ]
  },
  {
   "cell_type": "code",
   "execution_count": 27,
   "metadata": {},
   "outputs": [
    {
     "name": "stdout",
     "output_type": "stream",
     "text": [
      "101 102 103 104 \n",
      "101 102 103 104 "
     ]
    }
   ],
   "source": [
    "# list01의 모든 값을 출력하라\n",
    "list01 = [1,2,3,4]\n",
    "# 일반 for문\n",
    "for i in range(len(list01)):\n",
    "    print(list01[i]+100, end=' ')\n",
    "print()\n",
    "# 향상된 for문(빠른 for문)\n",
    "for i in list01:\n",
    "    print(i+100, end=' ')"
   ]
  },
  {
   "cell_type": "code",
   "execution_count": 30,
   "metadata": {},
   "outputs": [
    {
     "name": "stdout",
     "output_type": "stream",
     "text": [
      "o는 총 3번 출현\n"
     ]
    }
   ],
   "source": [
    "# a변수에 o라는 문자가 몇번 출현하는지 횟수를 세어주세요\n",
    "a = 'Hello world korea it'\n",
    "cnt = 0\n",
    "for i in a:\n",
    "    if 'o' == i:\n",
    "        cnt+=1\n",
    "print('o는 총 %d번 출현' %cnt)"
   ]
  },
  {
   "cell_type": "code",
   "execution_count": 31,
   "metadata": {},
   "outputs": [
    {
     "name": "stdout",
     "output_type": "stream",
     "text": [
      "0\n",
      "1\n",
      "2\n",
      "3\n",
      "4\n"
     ]
    }
   ],
   "source": [
    "# while 반복문\n",
    "cnt = 0\n",
    "while cnt <= 4:\n",
    "    print(cnt)\n",
    "    cnt += 1"
   ]
  },
  {
   "cell_type": "markdown",
   "metadata": {},
   "source": [
    "# 메소드(method)\n",
    "- 특정한 작업 동작을 사전에 미리 정의하여 동작하도록 제공하는 것\n",
    "- python이 직접 가지고 있는 메소드를 내장메소드라고 부른다.\n",
    "- 개발자가 만드는 메소드를 외장메소드(커스텀메소드)라고 부른다."
   ]
  },
  {
   "cell_type": "code",
   "execution_count": 32,
   "metadata": {},
   "outputs": [
    {
     "name": "stdout",
     "output_type": "stream",
     "text": [
      "2\n"
     ]
    }
   ],
   "source": [
    "print(2)"
   ]
  },
  {
   "cell_type": "code",
   "execution_count": 33,
   "metadata": {},
   "outputs": [
    {
     "data": {
      "text/plain": [
       "10"
      ]
     },
     "execution_count": 33,
     "metadata": {},
     "output_type": "execute_result"
    }
   ],
   "source": [
    "sum([1,2,3,4])"
   ]
  },
  {
   "cell_type": "code",
   "execution_count": 36,
   "metadata": {},
   "outputs": [
    {
     "name": "stdout",
     "output_type": "stream",
     "text": [
      "짝수입니다.\n",
      "홀수입니다.\n"
     ]
    }
   ],
   "source": [
    "# 커스텀 메소드 만들기\n",
    "# 홀수 짝수 검사기 만들기\n",
    "\n",
    "# def 메소드이름():\n",
    "#     구현부\n",
    "\n",
    "def check_odd(num):\n",
    "    msg = ''\n",
    "    if num%2 == 0:\n",
    "        msg += '짝수입니다.'\n",
    "    else:\n",
    "        msg += '홀수입니다.'\n",
    "\n",
    "    return msg\n",
    "\n",
    "print(check_odd(2))\n",
    "print(check_odd(5))"
   ]
  },
  {
   "cell_type": "markdown",
   "metadata": {},
   "source": [
    "## 내장메소드"
   ]
  },
  {
   "cell_type": "code",
   "execution_count": 41,
   "metadata": {},
   "outputs": [
    {
     "name": "stdout",
     "output_type": "stream",
     "text": [
      "0 1 2 3 4 5 6 7 8 9 "
     ]
    }
   ],
   "source": [
    "# 입력값을 전부 더해주는 메소드\n",
    "sum([1,2])\n",
    "\n",
    "# 가장 큰 값을 찾아주는 메소드\n",
    "max([5,12,3,2,11])\n",
    "\n",
    "# 입력값까지의 순차적인 숫자를 만들어주는 메소드\n",
    "range(10)\n",
    "\n",
    "for i in range(10):\n",
    "    print(i, end=' ')"
   ]
  },
  {
   "cell_type": "code",
   "execution_count": 45,
   "metadata": {},
   "outputs": [
    {
     "name": "stdout",
     "output_type": "stream",
     "text": [
      "3\n",
      "1+2\n",
      "3\n"
     ]
    }
   ],
   "source": [
    "# 파이썬에 존재하는 조금 특별한 내장메소드\n",
    "# - 문자열을 받아서 만일 문자열이 아니더라도 실행이 가능하면\n",
    "#   실행 가능한 형태로 리턴해주는 메소드\n",
    "# ex) '1+2' -> eval('1+2') -> 1+2 리턴\n",
    "print(1+2)\n",
    "print('1+2')\n",
    "print(eval('1+2'))\n",
    "\n",
    "\n"
   ]
  },
  {
   "cell_type": "code",
   "execution_count": 51,
   "metadata": {},
   "outputs": [
    {
     "name": "stdout",
     "output_type": "stream",
     "text": [
      "4\n",
      "12\n"
     ]
    }
   ],
   "source": [
    "# 객체의 길이를 알려주는 메소드\n",
    "list1 = [1,2,3,4]\n",
    "print(len(list1))\n",
    "print(len('korea python'))"
   ]
  },
  {
   "cell_type": "code",
   "execution_count": 53,
   "metadata": {},
   "outputs": [
    {
     "name": "stdout",
     "output_type": "stream",
     "text": [
      "korea python"
     ]
    }
   ],
   "source": [
    "a = 'korea python'\n",
    "for i in range(len(a)):\n",
    "    print(a[i], end='')"
   ]
  },
  {
   "cell_type": "code",
   "execution_count": 57,
   "metadata": {},
   "outputs": [
    {
     "name": "stdout",
     "output_type": "stream",
     "text": [
      "3\n",
      "3.1\n",
      "3.14\n"
     ]
    }
   ],
   "source": [
    "# 반올림\n",
    "print(round(3.14))\n",
    "print(round(3.14,1))\n",
    "print(round(3.14,2))"
   ]
  },
  {
   "cell_type": "code",
   "execution_count": 62,
   "metadata": {},
   "outputs": [
    {
     "name": "stdout",
     "output_type": "stream",
     "text": [
      "2\n",
      "11\n",
      "11\n",
      "2\n"
     ]
    }
   ],
   "source": [
    "# 데이터 형변환\n",
    "\n",
    "print(1+1) # 연산\n",
    "print('1'+'1') # 연결\n",
    "# 숫자와 문자를 연산한다면?\n",
    "print(str(1)+'1') # 연결\n",
    "print(1+int('1')) # 연산"
   ]
  },
  {
   "cell_type": "code",
   "execution_count": 63,
   "metadata": {},
   "outputs": [
    {
     "name": "stdout",
     "output_type": "stream",
     "text": [
      "<class 'int'>\n",
      "<class 'str'>\n"
     ]
    }
   ],
   "source": [
    "# 객체의 타입 확임\n",
    "print(type(1))\n",
    "print(type('1'))"
   ]
  },
  {
   "cell_type": "code",
   "execution_count": 70,
   "metadata": {},
   "outputs": [
    {
     "name": "stdout",
     "output_type": "stream",
     "text": [
      "[1, 2, 5, 7, 11]\n",
      "[11, 7, 5, 2, 1]\n"
     ]
    }
   ],
   "source": [
    "# 정렬메소드\n",
    "list2 = [5,1,2,11,7]\n",
    "print(sorted(list2)) # 오름차순\n",
    "print(sorted(list2, reverse=True)) # 내림차순"
   ]
  }
 ],
 "metadata": {
  "kernelspec": {
   "display_name": "Python 3",
   "language": "python",
   "name": "python3"
  },
  "language_info": {
   "codemirror_mode": {
    "name": "ipython",
    "version": 3
   },
   "file_extension": ".py",
   "mimetype": "text/x-python",
   "name": "python",
   "nbconvert_exporter": "python",
   "pygments_lexer": "ipython3",
   "version": "3.7.4"
  }
 },
 "nbformat": 4,
 "nbformat_minor": 2
}
